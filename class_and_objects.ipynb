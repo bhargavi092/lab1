{
  "nbformat": 4,
  "nbformat_minor": 0,
  "metadata": {
    "colab": {
      "name": "class_and_objects.ipynb",
      "provenance": [],
      "collapsed_sections": [],
      "authorship_tag": "ABX9TyN5YCYlA0fiQujuhpZYgdKz",
      "include_colab_link": true
    },
    "kernelspec": {
      "name": "python3",
      "display_name": "Python 3"
    },
    "language_info": {
      "name": "python"
    }
  },
  "cells": [
    {
      "cell_type": "markdown",
      "metadata": {
        "id": "view-in-github",
        "colab_type": "text"
      },
      "source": [
        "<a href=\"https://colab.research.google.com/github/bhargavi092/lab1/blob/main/class_and_objects.ipynb\" target=\"_parent\"><img src=\"https://colab.research.google.com/assets/colab-badge.svg\" alt=\"Open In Colab\"/></a>"
      ]
    },
    {
      "cell_type": "code",
      "execution_count": null,
      "metadata": {
        "id": "7JdrVm6nQXmM"
      },
      "outputs": [],
      "source": [
        "Creating class and object"
      ]
    },
    {
      "cell_type": "code",
      "source": [
        "\n",
        "# creating class\n",
        "class Classroom:\n",
        "    #class variable\n",
        "    board=\"white_board\";\n",
        "    #constructor\n",
        "    def __init__(self,a,b):\n",
        "        self.pen=a;   #instance variable\n",
        "        self.book=b;  #instance variable\n",
        "        \n",
        "    # instance method\n",
        "    def display(self):\n",
        "        print(\"My pen is \",self.pen);\n",
        "        print(\"My book is \",self.book);\n",
        "        print(\"board is \",self.board);\n",
        "\n",
        "#creating objects\n",
        "obj1=Classroom('parker','classmate');\n",
        "obj1.display();\n",
        "\n",
        "print(getattr(obj1,'pen'));\n",
        "print(hasattr(obj1,'book'));\n",
        "print(setattr(obj1,'board','blackboard'));\n",
        "#print(detattr(obj1,'pen'));\n",
        "\n",
        "#Bult-in class attributes\n",
        "print(Classroom.__dict__);\n",
        "print(Classroom.__doc__);\n",
        "print(Classroom.__name__);\n",
        "print(Classroom.__module__);\n",
        "print(Classroom.__bases__);\n"
      ],
      "metadata": {
        "colab": {
          "base_uri": "https://localhost:8080/"
        },
        "id": "cZFevgvGQkFS",
        "outputId": "c8daccc0-39ce-4aaf-fa24-61398740d58b"
      },
      "execution_count": 1,
      "outputs": [
        {
          "output_type": "stream",
          "name": "stdout",
          "text": [
            "My pen is  parker\n",
            "My book is  classmate\n",
            "board is  white_board\n",
            "parker\n",
            "True\n",
            "None\n",
            "{'__module__': '__main__', 'board': 'white_board', '__init__': <function Classroom.__init__ at 0x7ff88a2798c0>, 'display': <function Classroom.display at 0x7ff888a22680>, '__dict__': <attribute '__dict__' of 'Classroom' objects>, '__weakref__': <attribute '__weakref__' of 'Classroom' objects>, '__doc__': None}\n",
            "None\n",
            "Classroom\n",
            "__main__\n",
            "(<class 'object'>,)\n"
          ]
        }
      ]
    },
    {
      "cell_type": "markdown",
      "source": [
        " small example for inheritance"
      ],
      "metadata": {
        "id": "f88HOycDRj4v"
      }
    },
    {
      "cell_type": "code",
      "source": [
        "class Classroom:\n",
        "    #class variable\n",
        "    board=\"white_board\";\n",
        "    #constructor\n",
        "    def __init__(self,a,b):\n",
        "        self.pen=a  #instance variable\n",
        "        self.book=b #instance variable\n",
        "        \n",
        "    # instance method\n",
        "    def display(self):\n",
        "        print(\"My pen is \",self.pen);\n",
        "        print(\"My book is \",self.book);\n",
        "        print(\"board is \",self.board);\n",
        "class Student(Classroom):\n",
        "      teacher=\"Sujatha\";\n",
        "\n",
        "      def show(self):\n",
        "        print(\"My teacher name is\",self.teacher);\n",
        "obj1=Student('parker','classmate');\n",
        "obj1.display();\n",
        "obj1.show();"
      ],
      "metadata": {
        "colab": {
          "base_uri": "https://localhost:8080/"
        },
        "id": "5gDTBLhPRwfj",
        "outputId": "f6feadc9-520f-4356-f1cc-f0bc126d9c4b"
      },
      "execution_count": 5,
      "outputs": [
        {
          "output_type": "stream",
          "name": "stdout",
          "text": [
            "My pen is  parker\n",
            "My book is  classmate\n",
            "board is  white_board\n",
            "My teacher name is Sujatha\n"
          ]
        }
      ]
    }
  ]
}